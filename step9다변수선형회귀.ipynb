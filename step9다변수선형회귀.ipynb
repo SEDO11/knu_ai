{
  "nbformat": 4,
  "nbformat_minor": 0,
  "metadata": {
    "colab": {
      "name": "step9다변수선형회귀.ipynb",
      "provenance": [],
      "authorship_tag": "ABX9TyOSn/dg/Olg4GAMFsbeMOMy",
      "include_colab_link": true
    },
    "kernelspec": {
      "name": "python3",
      "display_name": "Python 3"
    },
    "language_info": {
      "name": "python"
    }
  },
  "cells": [
    {
      "cell_type": "markdown",
      "metadata": {
        "id": "view-in-github",
        "colab_type": "text"
      },
      "source": [
        "<a href=\"https://colab.research.google.com/github/SEDO11/knu_ai/blob/main/step9%EB%8B%A4%EB%B3%80%EC%88%98%EC%84%A0%ED%98%95%ED%9A%8C%EA%B7%80.ipynb\" target=\"_parent\"><img src=\"https://colab.research.google.com/assets/colab-badge.svg\" alt=\"Open In Colab\"/></a>"
      ]
    },
    {
      "cell_type": "markdown",
      "metadata": {
        "id": "PsqnndZqzIny"
      },
      "source": [
        "2변수 선형모델 평균 제곱 오차"
      ]
    },
    {
      "cell_type": "code",
      "metadata": {
        "colab": {
          "base_uri": "https://localhost:8080/"
        },
        "id": "9r-ah3YXzH2x",
        "outputId": "bb4ccb5d-64d2-4686-ffed-31e1f9405053"
      },
      "source": [
        "import numpy as np\n",
        "import tensorflow as tf\n",
        "\n",
        "##def MSE(y, t)\n",
        "\n",
        "MSE = tf.keras.losses.MeanSquaredError()\n",
        "\n",
        "train_data = np.array([\n",
        "  # x1, x2, t\n",
        "  [1, 0, 4],\n",
        "  [2, 0, 5],\n",
        "  [3, 0, 6],\n",
        "  [4, 0, 7],\n",
        "  [1, 1, 6],\n",
        "  [2, 1, 7],\n",
        "  [3, 1, 8],\n",
        "  [4, 1, 9]], dtype = np.float32)\n",
        "\n",
        "X = train_data[:, :-1]\n",
        "t = train_data[:, -1:]\n",
        "print(\"X=\", X)\n",
        "print(\"t=\", t)\n",
        "\n",
        "tf.random.set_seed(1)\n",
        "W = tf.Variable(tf.random.normal(shape = [2, 1]), )\n",
        "b = tf.Variable(tf.random.normal(shape = [1]))\n",
        "\n",
        "print(\"W=\", W.numpy())\n",
        "print(\"b=\", b.numpy())\n",
        "\n",
        "y = tf.matmul(X, W) + b\n",
        "print(\"y=\", y.numpy())\n",
        "\n",
        "loss = MSE(y, t)\n",
        "print(\"MSE(y, t)=\", loss.numpy())"
      ],
      "execution_count": 2,
      "outputs": [
        {
          "output_type": "stream",
          "name": "stdout",
          "text": [
            "X= [[1. 0.]\n",
            " [2. 0.]\n",
            " [3. 0.]\n",
            " [4. 0.]\n",
            " [1. 1.]\n",
            " [2. 1.]\n",
            " [3. 1.]\n",
            " [4. 1.]]\n",
            "t= [[4.]\n",
            " [5.]\n",
            " [6.]\n",
            " [7.]\n",
            " [6.]\n",
            " [7.]\n",
            " [8.]\n",
            " [9.]]\n",
            "W= [[-1.1012203]\n",
            " [ 1.5457517]]\n",
            "b= [0.40308788]\n",
            "y= [[-0.6981324 ]\n",
            " [-1.7993526 ]\n",
            " [-2.900573  ]\n",
            " [-4.001793  ]\n",
            " [ 0.8476193 ]\n",
            " [-0.25360093]\n",
            " [-1.3548213 ]\n",
            " [-2.4560416 ]]\n",
            "MSE(y, t)= 70.80983\n"
          ]
        }
      ]
    }
  ]
}