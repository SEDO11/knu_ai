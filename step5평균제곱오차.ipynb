{
  "nbformat": 4,
  "nbformat_minor": 0,
  "metadata": {
    "colab": {
      "name": "step5평균제곱오차.ipynb",
      "provenance": [],
      "collapsed_sections": [],
      "authorship_tag": "ABX9TyME2KQMoKFW2AtAFgZnpUXE",
      "include_colab_link": true
    },
    "kernelspec": {
      "name": "python3",
      "display_name": "Python 3"
    },
    "language_info": {
      "name": "python"
    }
  },
  "cells": [
    {
      "cell_type": "markdown",
      "metadata": {
        "id": "view-in-github",
        "colab_type": "text"
      },
      "source": [
        "<a href=\"https://colab.research.google.com/github/SEDO11/knu_ai/blob/main/step5%ED%8F%89%EA%B7%A0%EC%A0%9C%EA%B3%B1%EC%98%A4%EC%B0%A8.ipynb\" target=\"_parent\"><img src=\"https://colab.research.google.com/assets/colab-badge.svg\" alt=\"Open In Colab\"/></a>"
      ]
    },
    {
      "cell_type": "markdown",
      "metadata": {
        "id": "qPIpQqqpeGn2"
      },
      "source": [
        "#평균 제곱 오차 구하기"
      ]
    },
    {
      "cell_type": "markdown",
      "metadata": {
        "id": "L80pWhAAc7Xa"
      },
      "source": [
        "넘파이 방식"
      ]
    },
    {
      "cell_type": "code",
      "metadata": {
        "colab": {
          "base_uri": "https://localhost:8080/"
        },
        "id": "CHrj0y39bjnW",
        "outputId": "bbd400d2-da0c-467c-d729-bc2fd05c0795"
      },
      "source": [
        "import numpy as np\n",
        "\n",
        "def MSE(y, t):\n",
        "  return np.sum((y-t)**2)/t.size\n",
        "\n",
        "t = np.array([1, 2, 3, 4])\n",
        "y1 = np.array([0.5, 1, 1.5, 2])\n",
        "print(\"MSE(t, y1) = \", MSE(y1, t))\n",
        "\n",
        "y2 = np.array([0.5, 1.5, 2.5, 3.5])\n",
        "print(\"MSE(t, y2) = \", MSE(y2, t))"
      ],
      "execution_count": 12,
      "outputs": [
        {
          "output_type": "stream",
          "name": "stdout",
          "text": [
            "MSE(t, y1) =  1.875\n",
            "MSE(t, y2) =  0.25\n"
          ]
        }
      ]
    },
    {
      "cell_type": "markdown",
      "metadata": {
        "id": "p8ONSbNSc-Ga"
      },
      "source": [
        "텐서플로우 방식"
      ]
    },
    {
      "cell_type": "code",
      "metadata": {
        "colab": {
          "base_uri": "https://localhost:8080/"
        },
        "id": "GdS71dL9c9w8",
        "outputId": "bf199649-e184-4694-d862-768459cec136"
      },
      "source": [
        "import numpy as np\n",
        "import tensorflow as tf\n",
        "\n",
        "def MSE(t, y):\n",
        "  return tf.reduce_mean(tf.square(y-t)) #(y - t)**2\n",
        "\n",
        "# t = np.array([1, 2, 3, 4])\n",
        "# y1 = np.array([0.5, 1, 1.5, 2])\n",
        "t= tf.convert_to_tensor(t, dtype=tf.float32)\n",
        "y1 = tf.convert_to_tensor(y1,dtype=tf.float32)\n",
        "\n",
        "print(\"MSE(t. y1)=\", MSE(t, y1).numpy()) #numpy 선언 안해도 여기는 실행 됨\n",
        "\n",
        "y2 = np.array([0.5, 1.5, 2.5, 3.5])\n",
        "print(\"MSE(t, y2)=\", MSE(t, y2).numpy())"
      ],
      "execution_count": 14,
      "outputs": [
        {
          "output_type": "stream",
          "name": "stdout",
          "text": [
            "MSE(t. y1)= 1.875\n",
            "MSE(t, y2)= 0.25\n"
          ]
        }
      ]
    },
    {
      "cell_type": "markdown",
      "metadata": {
        "id": "q77VtPk5gXkT"
      },
      "source": [
        "losses"
      ]
    },
    {
      "cell_type": "code",
      "metadata": {
        "colab": {
          "base_uri": "https://localhost:8080/"
        },
        "id": "aG2emD_1enVS",
        "outputId": "e219f28c-d506-4137-a56a-7496f1b4629e"
      },
      "source": [
        "import numpy as np\n",
        "import tensorflow as tf\n",
        "\n",
        "# def MSE(t, y):\n",
        "#   return tf.reduce_mean(tf.square(y-t)) #(y - t)**2\n",
        "MSE = tf.keras.losses.MeanSquaredError();\n",
        "\n",
        "# t = np.array([1, 2, 3, 4])\n",
        "# y1 = np.array([0.5, 1, 1.5, 2])\n",
        "t= tf.convert_to_tensor(t, dtype=tf.float32)\n",
        "y1 = tf.convert_to_tensor(y1,dtype=tf.float32)\n",
        "\n",
        "print(\"MSE(t. y1)=\", MSE(t, y1).numpy()) #numpy 선언 안해도 여기는 실행 됨\n",
        "\n",
        "y2 = np.array([0.5, 1.5, 2.5, 3.5])\n",
        "print(\"MSE(t, y2)=\", MSE(t, y2).numpy())"
      ],
      "execution_count": 15,
      "outputs": [
        {
          "output_type": "stream",
          "name": "stdout",
          "text": [
            "MSE(t. y1)= 1.875\n",
            "MSE(t, y2)= 0.25\n"
          ]
        }
      ]
    }
  ]
}