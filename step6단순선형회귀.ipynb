{
  "nbformat": 4,
  "nbformat_minor": 0,
  "metadata": {
    "colab": {
      "name": "step6단순선형회귀.ipynb",
      "provenance": [],
      "collapsed_sections": [],
      "authorship_tag": "ABX9TyMYZCt0RCkOshwUBIBX2BMm",
      "include_colab_link": true
    },
    "kernelspec": {
      "name": "python3",
      "display_name": "Python 3"
    },
    "language_info": {
      "name": "python"
    }
  },
  "cells": [
    {
      "cell_type": "markdown",
      "metadata": {
        "id": "view-in-github",
        "colab_type": "text"
      },
      "source": [
        "<a href=\"https://colab.research.google.com/github/SEDO11/knu_ai/blob/main/step6%EB%8B%A8%EC%88%9C%EC%84%A0%ED%98%95%ED%9A%8C%EA%B7%80.ipynb\" target=\"_parent\"><img src=\"https://colab.research.google.com/assets/colab-badge.svg\" alt=\"Open In Colab\"/></a>"
      ]
    },
    {
      "cell_type": "markdown",
      "metadata": {
        "id": "nBxkx8whj_8V"
      },
      "source": [
        "#경사 하강법 넘파이\n",
        "lr = 0.001"
      ]
    },
    {
      "cell_type": "code",
      "metadata": {
        "colab": {
          "base_uri": "https://localhost:8080/",
          "height": 283
        },
        "id": "gq8LeP-ihpll",
        "outputId": "905e7c92-6815-4fee-90d1-8ad818f0ca67"
      },
      "source": [
        "import numpy as np\n",
        "\n",
        "def MSE(y, t):\n",
        "  return np.sum((y-t)**2)/t.size\n",
        "\n",
        "x = np.arange(12) #[0, 1, 2, 3, 4, 5, 6, 7, 8 ,9, 10, 11]\n",
        "t = np.arange(12)\n",
        "\n",
        "w = 0.5 #초기값\n",
        "b = 0\n",
        "lr = 0.001 #0.01, learning rate\n",
        "\n",
        "loss_list = []\n",
        "for epoch in range(200):\n",
        "  y = w * x + b #calculate the output\n",
        "  dW = np.sum(((y-t)*x) / (2 * x.size)) #gradients\n",
        "  dB = np.sum(((y-t)) / (2 * x.size))\n",
        "\n",
        "  w = w - lr * dW #update parameters\n",
        "  b = b - lr * dB\n",
        "\n",
        "  y = w * x + b # calculate the output\n",
        "  loss = MSE(y, t)\n",
        "  loss_list.append(loss)\n",
        "\n",
        "print(\"w={:>.4f}. b={:>.4f}, loss={:>8.4f}\".format(w, b, loss))\n",
        "\n",
        "import matplotlib.pyplot as plt\n",
        "plt.plot(loss_list)\n",
        "plt.show()"
      ],
      "execution_count": 5,
      "outputs": [
        {
          "output_type": "stream",
          "name": "stdout",
          "text": [
            "w=0.9853. b=0.0619, loss=  0.0029\n"
          ]
        },
        {
          "output_type": "display_data",
          "data": {
            "image/png": "[encoded data removed]",
            "text/plain": [
              "<Figure size 432x288 with 1 Axes>"
            ]
          },
          "metadata": {
            "needs_background": "light"
          }
        }
      ]
    },
    {
      "cell_type": "markdown",
      "metadata": {
        "id": "tl0qHccPkFnm"
      },
      "source": [
        "lr = 0.01"
      ]
    },
    {
      "cell_type": "code",
      "metadata": {
        "colab": {
          "base_uri": "https://localhost:8080/",
          "height": 283
        },
        "id": "uWWIda_-j3Um",
        "outputId": "d23751e5-9c38-495f-e3ea-1fae24926095"
      },
      "source": [
        "import numpy as np\n",
        "\n",
        "def MSE(y, t):\n",
        "  return np.sum((y-t)**2)/t.size\n",
        "\n",
        "x = np.arange(12) #[0, 1, 2, 3, 4, 5, 6, 7, 8 ,9, 10, 11]\n",
        "t = np.arange(12)\n",
        "\n",
        "w = 0.5 #초기값\n",
        "b = 0\n",
        "lr = 0.01 #0.001, learning rate\n",
        "\n",
        "loss_list = []\n",
        "for epoch in range(200):\n",
        "  y = w * x + b #calculate the output\n",
        "  dW = np.sum(((y-t)*x) / (2 * x.size)) #gradients\n",
        "  dB = np.sum(((y-t)) / (2 * x.size))\n",
        "\n",
        "  w = w - lr * dW #update parameters\n",
        "  b = b - lr * dB\n",
        "\n",
        "  y = w * x + b # calculate the output\n",
        "  loss = MSE(y, t)\n",
        "  loss_list.append(loss)\n",
        "\n",
        "print(\"w={:>.4f}. b={:>.4f}, loss={:>8.4f}\".format(w, b, loss))\n",
        "\n",
        "import matplotlib.pyplot as plt\n",
        "plt.plot(loss_list)\n",
        "plt.show()"
      ],
      "execution_count": 6,
      "outputs": [
        {
          "output_type": "stream",
          "name": "stdout",
          "text": [
            "w=0.9936. b=0.0489, loss=  0.0007\n"
          ]
        },
        {
          "output_type": "display_data",
          "data": {
            "image/png": "[encoded data removed]",
            "text/plain": [
              "<Figure size 432x288 with 1 Axes>"
            ]
          },
          "metadata": {
            "needs_background": "light"
          }
        }
      ]
    },
    {
      "cell_type": "markdown",
      "metadata": {
        "id": "QqCYTdEZmlvA"
      },
      "source": [
        "6-2 미니배치에 의한 확률적 경사강하법"
      ]
    },
    {
      "cell_type": "code",
      "metadata": {
        "colab": {
          "base_uri": "https://localhost:8080/",
          "height": 463
        },
        "id": "NamvIhELmqLF",
        "outputId": "b4473853-51e4-4b56-8343-37ce6e7fccab"
      },
      "source": [
        "import numpy as np\n",
        "import matplotlib.pyplot as plt\n",
        "\n",
        "def MSE(y, t):\n",
        "  return np.sum((y-t)**2)/t.size\n",
        "\n",
        "x = np.arange(12) #[0, 1, 2, 3, 4, 5, 6, 7, 8 ,9, 10, 11]\n",
        "t = np.arange(12)\n",
        "\n",
        "w = 0.5 #초기값\n",
        "b = 0\n",
        "lr = 0.001 #0.01, learning rate\n",
        "loss_list = []\n",
        "\n",
        "train_size = t.size #12\n",
        "batch_size = 4\n",
        "K = train_size // batch_size #3\n",
        "\n",
        "for epoch in range(100):\n",
        "  loss = 0\n",
        "  for step in range(K):\n",
        "    mask = np.random.choice(train_size, batch_size)\n",
        "    x_batch = x[mask]\n",
        "    t_batch = t[mask]\n",
        "\n",
        "    y = w * x_batch + b #calculate the output\n",
        "    dW = np.sum(((y-t_batch)*x_batch) / (2 * batch_size)) #gradients\n",
        "    dB = np.sum(((y-t_batch)) / (2 * batch_size))\n",
        "\n",
        "    w = w - lr * dW #update parameters\n",
        "    b = b - lr * dB\n",
        "\n",
        "    y = w * x_batch + b # calculate the output\n",
        "    loss += MSE(y, t_batch)\n",
        "  loss /= K\n",
        "  loss_list.append(loss)\n",
        "  if not epoch % 10: #10번마다 출력\n",
        "    print(\"epoch={}: w={:>8.4f}. b={:>8.4f}\".format(epoch, w, b, loss))\n",
        "\n",
        "print(\"w={:>8.4f}. b={:>8.4f}, loss={}\".format(w, b, loss))\n",
        "\n",
        "plt.plot(loss_list)\n",
        "plt.show()"
      ],
      "execution_count": 24,
      "outputs": [
        {
          "output_type": "stream",
          "name": "stdout",
          "text": [
            "epoch=0: w=  0.5405. b=  0.0048\n",
            "epoch=10: w=  0.7509. b=  0.0332\n",
            "epoch=20: w=  0.8780. b=  0.0486\n",
            "epoch=30: w=  0.9299. b=  0.0551\n",
            "epoch=40: w=  0.9597. b=  0.0588\n",
            "epoch=50: w=  0.9747. b=  0.0606\n",
            "epoch=60: w=  0.9823. b=  0.0614\n",
            "epoch=70: w=  0.9875. b=  0.0618\n",
            "epoch=80: w=  0.9892. b=  0.0617\n",
            "epoch=90: w=  0.9909. b=  0.0617\n",
            "w=  0.9911. b=  0.0614, loss=0.000963174042400795\n"
          ]
        },
        {
          "output_type": "display_data",
          "data": {
            "image/png": "[encoded data removed]",
            "text/plain": [
              "<Figure size 432x288 with 1 Axes>"
            ]
          },
          "metadata": {
            "needs_background": "light"
          }
        }
      ]
    }
  ]
}