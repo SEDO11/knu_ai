{
  "nbformat": 4,
  "nbformat_minor": 0,
  "metadata": {
    "colab": {
      "name": "step7자동미분계산.ipynb",
      "provenance": [],
      "collapsed_sections": [],
      "authorship_tag": "ABX9TyMqfd9QDO3dL+pKLfBD7eQL",
      "include_colab_link": true
    },
    "kernelspec": {
      "name": "python3",
      "display_name": "Python 3"
    },
    "language_info": {
      "name": "python"
    }
  },
  "cells": [
    {
      "cell_type": "markdown",
      "metadata": {
        "id": "view-in-github",
        "colab_type": "text"
      },
      "source": [
        "<a href=\"https://colab.research.google.com/github/SEDO11/knu_ai/blob/main/step7%EC%9E%90%EB%8F%99%EB%AF%B8%EB%B6%84%EA%B3%84%EC%82%B0.ipynb\" target=\"_parent\"><img src=\"https://colab.research.google.com/assets/colab-badge.svg\" alt=\"Open In Colab\"/></a>"
      ]
    },
    {
      "cell_type": "markdown",
      "metadata": {
        "id": "M8uhcpJ0lGp2"
      },
      "source": [
        "01 자동미분계산\n"
      ]
    },
    {
      "cell_type": "code",
      "metadata": {
        "colab": {
          "base_uri": "https://localhost:8080/"
        },
        "id": "WjUzDHo3lLRR",
        "outputId": "f8e471fb-2d84-417e-9247-dc8d703affbb"
      },
      "source": [
        "import tensorflow as tf\n",
        "\n",
        "x = tf.Variable(2.0)\n",
        "y = tf.Variable(3.0)\n",
        "\n",
        "with tf.GradientTape() as tape: \n",
        "   z = x**2 + y**2\n",
        "dx, dy = tape.gradient(z,[x, y])\n",
        "\n",
        "print('dx=', dx.numpy())\n",
        "print('dy=', dy.numpy())"
      ],
      "execution_count": 10,
      "outputs": [
        {
          "output_type": "stream",
          "name": "stdout",
          "text": [
            "dx= 4.0\n",
            "dy= 6.0\n"
          ]
        }
      ]
    },
    {
      "cell_type": "markdown",
      "metadata": {
        "id": "IH7xnI5hohSE"
      },
      "source": [
        "02 자동미분계산"
      ]
    },
    {
      "cell_type": "code",
      "metadata": {
        "colab": {
          "base_uri": "https://localhost:8080/"
        },
        "id": "Vn6qRBB8oqKT",
        "outputId": "f7e2f210-d520-4294-ac36-2eadfc8fb7dc"
      },
      "source": [
        "import tensorflow as tf\n",
        "\n",
        "x = tf.Variable(2.0)\n",
        "y = tf.Variable(3.0)\n",
        "\n",
        "with tf.GradientTape(persistent=True) as tape: #persistent=True가 없으면 오류\n",
        "   tape.watch(x)\n",
        "   tape.watch(y)\n",
        "   z = x**2 + y**2\n",
        "dx = tape.gradient(z, x)\n",
        "dy = tape.gradient(z, y)\n",
        "\n",
        "print('dx=', dx.numpy())\n",
        "print('dy=', dy.numpy())"
      ],
      "execution_count": 13,
      "outputs": [
        {
          "output_type": "stream",
          "name": "stdout",
          "text": [
            "dx= 4.0\n",
            "dy= 6.0\n"
          ]
        }
      ]
    },
    {
      "cell_type": "markdown",
      "metadata": {
        "id": "kRCbf_m9pdH6"
      },
      "source": [
        "03 자동미분계산"
      ]
    },
    {
      "cell_type": "code",
      "metadata": {
        "colab": {
          "base_uri": "https://localhost:8080/"
        },
        "id": "NvXh2aOYpesV",
        "outputId": "a92e0a3d-6beb-440f-8bea-62e201c790cc"
      },
      "source": [
        "import tensorflow as tf\n",
        "\n",
        "x = tf.Variable(2.0)\n",
        "y = tf.Variable(3.0)\n",
        "\n",
        "with tf.GradientTape(watch_accessed_variables=False) as tape:\n",
        "   tape.watch(x) #이게 없으면 값 반환 x\n",
        "   tape.watch(y) #이게 없으면 값 반환 x\n",
        "   z = x**2 + y**2\n",
        "dx, dy = tape.gradient(z,[x, y])\n",
        "\n",
        "print('dx=', dx.numpy())\n",
        "print('dy=', dy.numpy())"
      ],
      "execution_count": 16,
      "outputs": [
        {
          "output_type": "stream",
          "name": "stdout",
          "text": [
            "dx= 4.0\n",
            "dy= 6.0\n"
          ]
        }
      ]
    },
    {
      "cell_type": "markdown",
      "metadata": {
        "id": "YBXtVOGNp-1w"
      },
      "source": [
        "04 자동미분계산"
      ]
    },
    {
      "cell_type": "code",
      "metadata": {
        "colab": {
          "base_uri": "https://localhost:8080/"
        },
        "id": "oGcmCF0IqC73",
        "outputId": "21274c3c-4223-4474-81ed-88d25db8d24b"
      },
      "source": [
        "import tensorflow as tf\n",
        "\n",
        "x = tf.Variable(3.0)\n",
        "\n",
        "with tf.GradientTape() as tape2: \n",
        "  with tf.GradientTape() as tape1: \n",
        "    y = x**2\n",
        "    dy = tape1.gradient(y, x)\n",
        "    dy2 = tape2.gradient(dy, x)\n",
        "\n",
        "print('dx=', dx.numpy())\n",
        "print('dy=', dy.numpy())"
      ],
      "execution_count": 18,
      "outputs": [
        {
          "output_type": "stream",
          "name": "stdout",
          "text": [
            "dx= 4.0\n",
            "dy= 6.0\n"
          ]
        }
      ]
    }
  ]
}